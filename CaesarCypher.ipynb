{
 "cells": [
  {
   "cell_type": "markdown",
   "metadata": {
    "id": "hUogYoFTEU9l"
   },
   "source": [
    "# Caesar Cypher, by Lovely Ranges"
   ]
  },
  {
   "cell_type": "code",
   "execution_count": 1,
   "metadata": {
    "colab": {
     "base_uri": "https://localhost:8080/"
    },
    "id": "j_zJ5ScHmWGU",
    "outputId": "e4a49cf9-0fd7-41ef-f898-77c36250a525"
   },
   "outputs": [
    {
     "name": "stderr",
     "output_type": "stream",
     "text": [
      "[nltk_data] Downloading package words to\n",
      "[nltk_data]     C:\\Users\\user\\AppData\\Roaming\\nltk_data...\n",
      "[nltk_data]   Package words is already up-to-date!\n"
     ]
    },
    {
     "data": {
      "text/plain": [
       "True"
      ]
     },
     "execution_count": 1,
     "metadata": {},
     "output_type": "execute_result"
    }
   ],
   "source": [
    "#load corpus of many many words :)\n",
    "import nltk\n",
    "nltk.download('words')"
   ]
  },
  {
   "cell_type": "markdown",
   "metadata": {
    "id": "rzsR1eLoEU9n"
   },
   "source": [
    "### Encryption Function"
   ]
  },
  {
   "cell_type": "code",
   "execution_count": 2,
   "metadata": {
    "id": "AWtugb7eEU9p"
   },
   "outputs": [],
   "source": [
    "#splits a string into individual letters\n",
    "def split(string):\n",
    "    return[x for x in string]\n",
    "\n",
    "#encrypts a sentence \n",
    "def encrypt(plaintext, key):\n",
    "\n",
    "    #empty text we will add to\n",
    "    encryptedText = \"\"\n",
    "\n",
    "    #split sentence into a list of words\n",
    "    plaintext = plaintext.upper()\n",
    "    alphabet = split(\"ABCDEFGHIJKLMNOPQRSTUVWXYZ\")\n",
    "    \n",
    "    #for each of the letters in text\n",
    "    for letter in plaintext:\n",
    "        #if the letter is inside the alphabet and we haven't gone past the length of alphabet\n",
    "        #then shift the letter by that key and add it to our encrypted text\n",
    "        if letter in alphabet and (alphabet.index(letter) + key) < len(alphabet):\n",
    "        #if letter in alphabet:\n",
    "            encryptedText += alphabet[alphabet.index(letter)+ key]\n",
    "        #if white space, ignore\n",
    "        elif letter not in alphabet:\n",
    "            encryptedText += letter\n",
    "        else:\n",
    "            encryptedText += alphabet[((alphabet.index(letter) + key) % len(alphabet))]\n",
    "            \n",
    "    return encryptedText\n",
    "            \n",
    "#decrypts a sentence\n",
    "def decrypt(encryptedtext, key):\n",
    "    decryptedtext = \"\"\n",
    "    #split text into a list of letters\n",
    "    encryptedtext = encryptedtext.upper()\n",
    "    alphabet = split(\"ABCDEFGHIJKLMNOPQRSTUVWXYZ\")\n",
    "    \n",
    "    #for each of the letters in text\n",
    "    for letter in encryptedtext:\n",
    "        #if the letter is inside the alphabet and we haven't gone past the length of alphabet\n",
    "        #then shift the letter by that key and add it to our encrypted text\n",
    "        if letter in alphabet and (alphabet.index(letter) - key) > len(alphabet):\n",
    "        #if letter in alphabet:\n",
    "            decryptedtext += alphabet[alphabet.index(letter) - key]\n",
    "        elif letter not in alphabet:\n",
    "            decryptedtext += letter\n",
    "        else:\n",
    "            decryptedtext += alphabet[((alphabet.index(letter) - key) % len(alphabet))]\n",
    "            \n",
    "    return decryptedtext\n",
    "    \n",
    "def bruteForce(sentence):\n",
    "  english = False \n",
    "  wordCount = 0 \n",
    "\n",
    "  #convert all case to lower\n",
    "  sentence = sentence.lower()\n",
    "  splitSent = sentence.split()\n",
    "  #d = enchant.Dict(\"en_US\")\n",
    "\n",
    "  english_vocab = set(w.lower() for w in nltk.corpus.words.words())\n",
    "\n",
    "  for word in splitSent:\n",
    "    #check if its an english word\n",
    "      if word in english_vocab and len(word) >= 3:\n",
    "        wordCount += 1\n",
    "  \n",
    "  if wordCount >= 1:\n",
    "    english = True\n",
    "  else:\n",
    "    english = False\n",
    "\n",
    "  return english\n",
    "\n",
    "def countEnglishWords(sentence):\n",
    "    \n",
    "    wordCount = 0\n",
    "    sentence = sentence.lower()\n",
    "    splitSent = sentence.split()\n",
    "    english_vocab = set(w.lower() for w in nltk.corpus.words.words())\n",
    "    \n",
    "    for word in splitSent:\n",
    "        if word in english_vocab and len(word) >= 3:\n",
    "            wordCount += 1\n",
    "    \n",
    "    return wordCount\n"
   ]
  },
  {
   "cell_type": "markdown",
   "metadata": {
    "id": "PzDtxZzjEU9q"
   },
   "source": [
    "### Encryption "
   ]
  },
  {
   "cell_type": "code",
   "execution_count": 3,
   "metadata": {
    "colab": {
     "base_uri": "https://localhost:8080/"
    },
    "id": "-hl034vzEU9q",
    "outputId": "ae8602d5-8a58-4739-ba88-24a36b314c8b"
   },
   "outputs": [
    {
     "name": "stdout",
     "output_type": "stream",
     "text": [
      "Please provide the sentence you'd like for us to encrypt.\n",
      "I would like to test out your decryptor!\n",
      "Please provide the key you'd like to use to encrypt with (number between 1 - 26)\n",
      "9\n",
      "Printing encrypted sentence: R FXDUM URTN CX CNBC XDC HXDA MNLAHYCXA!\n"
     ]
    }
   ],
   "source": [
    "sentence = input(\"Please provide the sentence you'd like for us to encrypt.\\n\")\n",
    "key = int(input(\"Please provide the key you'd like to use to encrypt with (number between 1 - 26)\\n\"))\n",
    "\n",
    "encryptedSent = encrypt(sentence, key)\n",
    "print(\"Printing encrypted sentence: \" + encryptedSent)\n"
   ]
  },
  {
   "cell_type": "markdown",
   "metadata": {},
   "source": [
    "### Hacking Time!"
   ]
  },
  {
   "cell_type": "code",
   "execution_count": 4,
   "metadata": {
    "id": "yzDQrstupFZq"
   },
   "outputs": [
    {
     "name": "stdout",
     "output_type": "stream",
     "text": [
      "Please provide the sentence you'd like me to hack here: \n",
      "R FXDUM URTN CX CNBC XDC HXDA MNLAHYCXA!\n",
      "It's hacking time...... :-) \n",
      "\n",
      "Printing all possible decrypted sentences: \n",
      "R FXDUM URTN CX CNBC XDC HXDA MNLAHYCXA!\n",
      "Q EWCTL TQSM BW BMAB WCB GWCZ LMKZGXBWZ!\n",
      "P DVBSK SPRL AV ALZA VBA FVBY KLJYFWAVY!\n",
      "O CUARJ ROQK ZU ZKYZ UAZ EUAX JKIXEVZUX!\n",
      "N BTZQI QNPJ YT YJXY TZY DTZW IJHWDUYTW!\n",
      "M ASYPH PMOI XS XIWX SYX CSYV HIGVCTXSV!\n",
      "L ZRXOG OLNH WR WHVW RXW BRXU GHFUBSWRU!\n",
      "K YQWNF NKMG VQ VGUV QWV AQWT FGETARVQT!\n",
      "J XPVME MJLF UP UFTU PVU ZPVS EFDSZQUPS!\n",
      "I WOULD LIKE TO TEST OUT YOUR DECRYPTOR!\n",
      "H VNTKC KHJD SN SDRS NTS XNTQ CDBQXOSNQ!\n",
      "G UMSJB JGIC RM RCQR MSR WMSP BCAPWNRMP!\n",
      "F TLRIA IFHB QL QBPQ LRQ VLRO ABZOVMQLO!\n",
      "E SKQHZ HEGA PK PAOP KQP UKQN ZAYNULPKN!\n",
      "D RJPGY GDFZ OJ OZNO JPO TJPM YZXMTKOJM!\n",
      "C QIOFX FCEY NI NYMN ION SIOL XYWLSJNIL!\n",
      "B PHNEW EBDX MH MXLM HNM RHNK WXVKRIMHK!\n",
      "A OGMDV DACW LG LWKL GML QGMJ VWUJQHLGJ!\n",
      "Z NFLCU CZBV KF KVJK FLK PFLI UVTIPGKFI!\n",
      "Y MEKBT BYAU JE JUIJ EKJ OEKH TUSHOFJEH!\n",
      "X LDJAS AXZT ID ITHI DJI NDJG STRGNEIDG!\n",
      "W KCIZR ZWYS HC HSGH CIH MCIF RSQFMDHCF!\n",
      "V JBHYQ YVXR GB GRFG BHG LBHE QRPELCGBE!\n",
      "U IAGXP XUWQ FA FQEF AGF KAGD PQODKBFAD!\n",
      "T HZFWO WTVP EZ EPDE ZFE JZFC OPNCJAEZC!\n",
      "S GYEVN VSUO DY DOCD YED IYEB NOMBIZDYB!\n",
      "-------------------------------------------------\n",
      "I found the most likely sentence. Could it be this? \n",
      "I WOULD LIKE TO TEST OUT YOUR DECRYPTOR!\n"
     ]
    }
   ],
   "source": [
    "\n",
    "sentenceToHack = input(\"Please provide the sentence you'd like me to hack here: \\n\")\n",
    "\n",
    "print(\"It's hacking time...... :-) \\n\")\n",
    "print(\"Printing all possible decrypted sentences: \")\n",
    "\n",
    "possibleSentences = []\n",
    "\n",
    "for i in range(26):\n",
    "  sentence = bruteForce(decrypt(sentenceToHack, i)) \n",
    "  print(decrypt(sentenceToHack, i))\n",
    "\n",
    "  if sentence == True:\n",
    "    possibleSentences.append(decrypt(sentenceToHack, i))\n",
    "    \n",
    "print(\"-------------------------------------------------\")\n",
    "print(\"I found the most likely sentence. Could it be this? \")\n",
    "\n",
    "mostLikelySentence = \"\"\n",
    "maxWords = 0\n",
    "position = 0\n",
    "\n",
    "for sentence in possibleSentences:\n",
    "    #take the sentence with the highest amount of english words in it\n",
    "    if countEnglishWords(sentence) > maxWords:\n",
    "        maxWords = countEnglishWords(sentence)\n",
    "        mostLikelySentence = sentence\n",
    "        position = possibleSentences.index(mostLikelySentence)\n",
    "        \n",
    "\n",
    "print(mostLikelySentence)\n",
    "#print(position)\n"
   ]
  },
  {
   "cell_type": "code",
   "execution_count": 6,
   "metadata": {},
   "outputs": [
    {
     "name": "stdout",
     "output_type": "stream",
     "text": [
      "362880\n"
     ]
    }
   ],
   "source": [
    "from itertools import permutations \n",
    "perm = permutations(['d', 'o', 'r', 'm', 'i', 't', 'o', 'r', 'y']) \n",
    "\n",
    "print(len(list(perm)))"
   ]
  },
  {
   "cell_type": "code",
   "execution_count": null,
   "metadata": {},
   "outputs": [],
   "source": []
  }
 ],
 "metadata": {
  "colab": {
   "name": "CaesarCypher.ipynb",
   "provenance": []
  },
  "kernelspec": {
   "display_name": "Python 3",
   "language": "python",
   "name": "python3"
  },
  "language_info": {
   "codemirror_mode": {
    "name": "ipython",
    "version": 3
   },
   "file_extension": ".py",
   "mimetype": "text/x-python",
   "name": "python",
   "nbconvert_exporter": "python",
   "pygments_lexer": "ipython3",
   "version": "3.8.5"
  }
 },
 "nbformat": 4,
 "nbformat_minor": 1
}
