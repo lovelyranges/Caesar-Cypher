{
  "nbformat": 4,
  "nbformat_minor": 0,
  "metadata": {
    "kernelspec": {
      "display_name": "Python 3",
      "language": "python",
      "name": "python3"
    },
    "language_info": {
      "codemirror_mode": {
        "name": "ipython",
        "version": 3
      },
      "file_extension": ".py",
      "mimetype": "text/x-python",
      "name": "python",
      "nbconvert_exporter": "python",
      "pygments_lexer": "ipython3",
      "version": "3.8.5"
    },
    "colab": {
      "name": "CaesarCypher.ipynb",
      "provenance": []
    }
  },
  "cells": [
    {
      "cell_type": "markdown",
      "metadata": {
        "id": "hUogYoFTEU9l"
      },
      "source": [
        "# Caesar Cypher, by Lovely Ranges"
      ]
    },
    {
      "cell_type": "code",
      "metadata": {
        "colab": {
          "base_uri": "https://localhost:8080/"
        },
        "id": "j_zJ5ScHmWGU",
        "outputId": "e4a49cf9-0fd7-41ef-f898-77c36250a525"
      },
      "source": [
        "#load corpus of many many words :)\n",
        "import nltk\n",
        "nltk.download('words')"
      ],
      "execution_count": 1,
      "outputs": [
        {
          "output_type": "stream",
          "text": [
            "[nltk_data] Downloading package words to /root/nltk_data...\n",
            "[nltk_data]   Package words is already up-to-date!\n"
          ],
          "name": "stdout"
        },
        {
          "output_type": "execute_result",
          "data": {
            "text/plain": [
              "True"
            ]
          },
          "metadata": {
            "tags": []
          },
          "execution_count": 1
        }
      ]
    },
    {
      "cell_type": "markdown",
      "metadata": {
        "id": "rzsR1eLoEU9n"
      },
      "source": [
        "### Encryption Function"
      ]
    },
    {
      "cell_type": "code",
      "metadata": {
        "id": "AWtugb7eEU9p"
      },
      "source": [
        "#splits a string into individual letters\n",
        "def split(string):\n",
        "    return[x for x in string]\n",
        "\n",
        "#encrypts a sentence \n",
        "def encrypt(plaintext, key):\n",
        "\n",
        "    #empty text we will add to\n",
        "    encryptedText = \"\"\n",
        "\n",
        "    #split sentence into a list of words\n",
        "    plaintext = plaintext.upper()\n",
        "    alphabet = split(\"ABCDEFGHIJKLMNOPQRSTUVWXYZ\")\n",
        "    \n",
        "    #for each of the letters in text\n",
        "    for letter in plaintext:\n",
        "        #if the letter is inside the alphabet and we haven't gone past the length of alphabet\n",
        "        #then shift the letter by that key and add it to our encrypted text\n",
        "        if letter in alphabet and (alphabet.index(letter) + key) < len(alphabet):\n",
        "        #if letter in alphabet:\n",
        "            encryptedText += alphabet[alphabet.index(letter)+ key]\n",
        "        #if white space, ignore\n",
        "        elif letter not in alphabet:\n",
        "            encryptedText += letter\n",
        "        else:\n",
        "            encryptedText += alphabet[((alphabet.index(letter) + key) % len(alphabet))]\n",
        "            \n",
        "    return encryptedText\n",
        "            \n",
        "#decrypts a sentence\n",
        "def decrypt(encryptedtext, key):\n",
        "    decryptedtext = \"\"\n",
        "    #split text into a list of letters\n",
        "    encryptedtext = encryptedtext.upper()\n",
        "    alphabet = split(\"ABCDEFGHIJKLMNOPQRSTUVWXYZ\")\n",
        "    \n",
        "    #for each of the letters in text\n",
        "    for letter in encryptedtext:\n",
        "        #if the letter is inside the alphabet and we haven't gone past the length of alphabet\n",
        "        #then shift the letter by that key and add it to our encrypted text\n",
        "        if letter in alphabet and (alphabet.index(letter) - key) > len(alphabet):\n",
        "        #if letter in alphabet:\n",
        "            decryptedtext += alphabet[alphabet.index(letter) - key]\n",
        "        elif letter not in alphabet:\n",
        "            decryptedtext += letter\n",
        "        else:\n",
        "            decryptedtext += alphabet[((alphabet.index(letter) - key) % len(alphabet))]\n",
        "            \n",
        "    return decryptedtext\n",
        "    \n",
        "def bruteForce(sentence):\n",
        "  english = False \n",
        "  wordCount = 0 \n",
        "\n",
        "  #convert all case to lower\n",
        "  sentence = sentence.lower()\n",
        "  splitSent = sentence.split()\n",
        "  #d = enchant.Dict(\"en_US\")\n",
        "\n",
        "  english_vocab = set(w.lower() for w in nltk.corpus.words.words())\n",
        "\n",
        "  for word in splitSent:\n",
        "    #check if its an english word\n",
        "      if word in english_vocab and len(word) >= 3:\n",
        "        wordCount += 1\n",
        "  \n",
        "  if wordCount >= 1:\n",
        "    english = True\n",
        "  else:\n",
        "    english = False\n",
        "\n",
        "  return english\n",
        "      \n"
      ],
      "execution_count": 2,
      "outputs": []
    },
    {
      "cell_type": "markdown",
      "metadata": {
        "id": "PzDtxZzjEU9q"
      },
      "source": [
        "### Encryption Tests"
      ]
    },
    {
      "cell_type": "code",
      "metadata": {
        "colab": {
          "base_uri": "https://localhost:8080/"
        },
        "id": "-hl034vzEU9q",
        "outputId": "ae8602d5-8a58-4739-ba88-24a36b314c8b"
      },
      "source": [
        "sentence = input(\"Please provide the sentence you'd like for us to encrypt.\\n\")\n",
        "key = int(input(\"Please provide the key you'd like to use to encrypt with (number between 1 - 26)\\n\"))\n",
        "\n",
        "encryptedSent = encrypt(sentence, key)\n",
        "print(\"Printing encrypted sentence: \" + encryptedSent)\n",
        "\n",
        "print(\"It's hacking time...... :-)\")\n",
        "print(\"Printing all possible decrypted sentences: \")\n",
        "\n",
        "possibleSentences = []\n",
        "\n",
        "for i in range(26):\n",
        "  sentence = bruteForce(decrypt(encryptedSent, \n",
        "                                i)) \n",
        "  print(decrypt(encryptedSent, i))\n",
        "\n",
        "  if sentence == True:\n",
        "    possibleSentences.append(decrypt(encryptedSent, i))\n",
        "  \n",
        "print(\"-------------------------------------------------\")\n",
        "print(\"I have found possible sentences that might be of use to you, do any of these sound like what the message could be?\")\n",
        "\n",
        "for w in possibleSentences:\n",
        "  print(w)\n",
        "\n",
        "\n"
      ],
      "execution_count": 3,
      "outputs": [
        {
          "output_type": "stream",
          "text": [
            "Please provide the sentence you'd like for us to encrypt.\n",
            "Hello my name is Lovely and I would like my test result.\n",
            "Please provide the key you'd like to use to encrypt with (number between 1 - 26)\n",
            "15\n",
            "Printing encrypted sentence: WTAAD BN CPBT XH ADKTAN PCS X LDJAS AXZT BN ITHI GTHJAI.\n",
            "It's hacking time...... :-)\n",
            "Printing all possible decrypted sentences: \n",
            "WTAAD BN CPBT XH ADKTAN PCS X LDJAS AXZT BN ITHI GTHJAI.\n",
            "VSZZC AM BOAS WG ZCJSZM OBR W KCIZR ZWYS AM HSGH FSGIZH.\n",
            "URYYB ZL ANZR VF YBIRYL NAQ V JBHYQ YVXR ZL GRFG ERFHYG.\n",
            "TQXXA YK ZMYQ UE XAHQXK MZP U IAGXP XUWQ YK FQEF DQEGXF.\n",
            "SPWWZ XJ YLXP TD WZGPWJ LYO T HZFWO WTVP XJ EPDE CPDFWE.\n",
            "ROVVY WI XKWO SC VYFOVI KXN S GYEVN VSUO WI DOCD BOCEVD.\n",
            "QNUUX VH WJVN RB UXENUH JWM R FXDUM URTN VH CNBC ANBDUC.\n",
            "PMTTW UG VIUM QA TWDMTG IVL Q EWCTL TQSM UG BMAB ZMACTB.\n",
            "OLSSV TF UHTL PZ SVCLSF HUK P DVBSK SPRL TF ALZA YLZBSA.\n",
            "NKRRU SE TGSK OY RUBKRE GTJ O CUARJ ROQK SE ZKYZ XKYARZ.\n",
            "MJQQT RD SFRJ NX QTAJQD FSI N BTZQI QNPJ RD YJXY WJXZQY.\n",
            "LIPPS QC REQI MW PSZIPC ERH M ASYPH PMOI QC XIWX VIWYPX.\n",
            "KHOOR PB QDPH LV ORYHOB DQG L ZRXOG OLNH PB WHVW UHVXOW.\n",
            "JGNNQ OA PCOG KU NQXGNA CPF K YQWNF NKMG OA VGUV TGUWNV.\n",
            "IFMMP NZ OBNF JT MPWFMZ BOE J XPVME MJLF NZ UFTU SFTVMU.\n",
            "HELLO MY NAME IS LOVELY AND I WOULD LIKE MY TEST RESULT.\n",
            "GDKKN LX MZLD HR KNUDKX ZMC H VNTKC KHJD LX SDRS QDRTKS.\n",
            "FCJJM KW LYKC GQ JMTCJW YLB G UMSJB JGIC KW RCQR PCQSJR.\n",
            "EBIIL JV KXJB FP ILSBIV XKA F TLRIA IFHB JV QBPQ OBPRIQ.\n",
            "DAHHK IU JWIA EO HKRAHU WJZ E SKQHZ HEGA IU PAOP NAOQHP.\n",
            "CZGGJ HT IVHZ DN GJQZGT VIY D RJPGY GDFZ HT OZNO MZNPGO.\n",
            "BYFFI GS HUGY CM FIPYFS UHX C QIOFX FCEY GS NYMN LYMOFN.\n",
            "AXEEH FR GTFX BL EHOXER TGW B PHNEW EBDX FR MXLM KXLNEM.\n",
            "ZWDDG EQ FSEW AK DGNWDQ SFV A OGMDV DACW EQ LWKL JWKMDL.\n",
            "YVCCF DP ERDV ZJ CFMVCP REU Z NFLCU CZBV DP KVJK IVJLCK.\n",
            "XUBBE CO DQCU YI BELUBO QDT Y MEKBT BYAU CO JUIJ HUIKBJ.\n",
            "-------------------------------------------------\n",
            "I have found possible sentences that might be of use to you, do any of these sound like what the message could be?\n",
            "OLSSV TF UHTL PZ SVCLSF HUK P DVBSK SPRL TF ALZA YLZBSA.\n",
            "HELLO MY NAME IS LOVELY AND I WOULD LIKE MY TEST RESULT.\n"
          ],
          "name": "stdout"
        }
      ]
    },
    {
      "cell_type": "code",
      "metadata": {
        "id": "yzDQrstupFZq"
      },
      "source": [
        ""
      ],
      "execution_count": 3,
      "outputs": []
    }
  ]
}