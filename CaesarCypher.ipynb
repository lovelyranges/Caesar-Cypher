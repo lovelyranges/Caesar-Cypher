{
 "cells": [
  {
   "cell_type": "markdown",
   "metadata": {
    "id": "hUogYoFTEU9l"
   },
   "source": [
    "# Caesar Cypher, by Lovely Ranges"
   ]
  },
  {
   "cell_type": "code",
   "execution_count": 1,
   "metadata": {
    "colab": {
     "base_uri": "https://localhost:8080/"
    },
    "id": "j_zJ5ScHmWGU",
    "outputId": "e4a49cf9-0fd7-41ef-f898-77c36250a525"
   },
   "outputs": [
    {
     "name": "stderr",
     "output_type": "stream",
     "text": [
      "[nltk_data] Downloading package words to\n",
      "[nltk_data]     C:\\Users\\user\\AppData\\Roaming\\nltk_data...\n",
      "[nltk_data]   Package words is already up-to-date!\n"
     ]
    },
    {
     "data": {
      "text/plain": [
       "True"
      ]
     },
     "execution_count": 1,
     "metadata": {},
     "output_type": "execute_result"
    }
   ],
   "source": [
    "#load corpus of many many words :)\n",
    "import nltk\n",
    "nltk.download('words')"
   ]
  },
  {
   "cell_type": "markdown",
   "metadata": {
    "id": "rzsR1eLoEU9n"
   },
   "source": [
    "### Encryption Function"
   ]
  },
  {
   "cell_type": "code",
   "execution_count": 2,
   "metadata": {
    "id": "AWtugb7eEU9p"
   },
   "outputs": [],
   "source": [
    "#splits a string into individual letters\n",
    "def split(string):\n",
    "    return[x for x in string]\n",
    "\n",
    "#encrypts a sentence \n",
    "def encrypt(plaintext, key):\n",
    "\n",
    "    #empty text we will add to\n",
    "    encryptedText = \"\"\n",
    "\n",
    "    #split sentence into a list of words\n",
    "    plaintext = plaintext.upper()\n",
    "    alphabet = split(\"ABCDEFGHIJKLMNOPQRSTUVWXYZ\")\n",
    "    \n",
    "    #for each of the letters in text\n",
    "    for letter in plaintext:\n",
    "        #if the letter is inside the alphabet and we haven't gone past the length of alphabet\n",
    "        #then shift the letter by that key and add it to our encrypted text\n",
    "        if letter in alphabet and (alphabet.index(letter) + key) < len(alphabet):\n",
    "        #if letter in alphabet:\n",
    "            encryptedText += alphabet[alphabet.index(letter)+ key]\n",
    "        #if white space, ignore\n",
    "        elif letter not in alphabet:\n",
    "            encryptedText += letter\n",
    "        else:\n",
    "            encryptedText += alphabet[((alphabet.index(letter) + key) % len(alphabet))]\n",
    "            \n",
    "    return encryptedText\n",
    "            \n",
    "#decrypts a sentence\n",
    "def decrypt(encryptedtext, key):\n",
    "    decryptedtext = \"\"\n",
    "    #split text into a list of letters\n",
    "    encryptedtext = encryptedtext.upper()\n",
    "    alphabet = split(\"ABCDEFGHIJKLMNOPQRSTUVWXYZ\")\n",
    "    \n",
    "    #for each of the letters in text\n",
    "    for letter in encryptedtext:\n",
    "        #if the letter is inside the alphabet and we haven't gone past the length of alphabet\n",
    "        #then shift the letter by that key and add it to our encrypted text\n",
    "        if letter in alphabet and (alphabet.index(letter) - key) > len(alphabet):\n",
    "        #if letter in alphabet:\n",
    "            decryptedtext += alphabet[alphabet.index(letter) - key]\n",
    "        elif letter not in alphabet:\n",
    "            decryptedtext += letter\n",
    "        else:\n",
    "            decryptedtext += alphabet[((alphabet.index(letter) - key) % len(alphabet))]\n",
    "            \n",
    "    return decryptedtext\n",
    "    \n",
    "def bruteForce(sentence):\n",
    "  english = False \n",
    "  wordCount = 0 \n",
    "\n",
    "  #convert all case to lower\n",
    "  sentence = sentence.lower()\n",
    "  splitSent = sentence.split()\n",
    "  #d = enchant.Dict(\"en_US\")\n",
    "\n",
    "  english_vocab = set(w.lower() for w in nltk.corpus.words.words())\n",
    "\n",
    "  for word in splitSent:\n",
    "    #check if its an english word\n",
    "      if word in english_vocab and len(word) >= 3:\n",
    "        wordCount += 1\n",
    "  \n",
    "  if wordCount >= 1:\n",
    "    english = True\n",
    "  else:\n",
    "    english = False\n",
    "\n",
    "  return english\n",
    "\n",
    "def countEnglishWords(sentence):\n",
    "    \n",
    "    wordCount = 0\n",
    "    sentence = sentence.lower()\n",
    "    splitSent = sentence.split()\n",
    "    english_vocab = set(w.lower() for w in nltk.corpus.words.words())\n",
    "    \n",
    "    for word in splitSent:\n",
    "        if word in english_vocab and len(word) >= 3:\n",
    "            wordCount += 1\n",
    "    \n",
    "    return wordCount\n"
   ]
  },
  {
   "cell_type": "markdown",
   "metadata": {
    "id": "PzDtxZzjEU9q"
   },
   "source": [
    "### Encryption "
   ]
  },
  {
   "cell_type": "code",
   "execution_count": null,
   "metadata": {
    "colab": {
     "base_uri": "https://localhost:8080/"
    },
    "id": "-hl034vzEU9q",
    "outputId": "ae8602d5-8a58-4739-ba88-24a36b314c8b",
    "scrolled": true
   },
   "outputs": [],
   "source": [
    "sentence = input(\"Please provide the sentence you'd like for us to encrypt.\\n\")\n",
    "key = int(input(\"Please provide the key you'd like to use to encrypt with (number between 1 - 26)\\n\"))\n",
    "\n",
    "encryptedSent = encrypt(sentence, key)\n",
    "print(\"Printing encrypted sentence: \" + encryptedSent)\n"
   ]
  },
  {
   "cell_type": "markdown",
   "metadata": {},
   "source": [
    "### Hacking Time!"
   ]
  },
  {
   "cell_type": "code",
   "execution_count": 6,
   "metadata": {
    "id": "yzDQrstupFZq",
    "scrolled": true
   },
   "outputs": [
    {
     "name": "stdout",
     "output_type": "stream",
     "text": [
      "Please provide the sentence you'd like me to hack here: \n",
      "OCUKTC CPI KAQPI RCC!\n",
      "It's hacking time...... :-) \n",
      "\n",
      "Printing all possible decrypted sentences: \n",
      "OCUKTC CPI KAQPI RCC!\n",
      "NBTJSB BOH JZPOH QBB!\n",
      "MASIRA ANG IYONG PAA!\n",
      "LZRHQZ ZMF HXNMF OZZ!\n",
      "KYQGPY YLE GWMLE NYY!\n",
      "JXPFOX XKD FVLKD MXX!\n",
      "IWOENW WJC EUKJC LWW!\n",
      "HVNDMV VIB DTJIB KVV!\n",
      "GUMCLU UHA CSIHA JUU!\n",
      "FTLBKT TGZ BRHGZ ITT!\n",
      "ESKAJS SFY AQGFY HSS!\n",
      "DRJZIR REX ZPFEX GRR!\n",
      "CQIYHQ QDW YOEDW FQQ!\n",
      "BPHXGP PCV XNDCV EPP!\n",
      "AOGWFO OBU WMCBU DOO!\n",
      "ZNFVEN NAT VLBAT CNN!\n",
      "YMEUDM MZS UKAZS BMM!\n",
      "XLDTCL LYR TJZYR ALL!\n",
      "WKCSBK KXQ SIYXQ ZKK!\n",
      "VJBRAJ JWP RHXWP YJJ!\n",
      "UIAQZI IVO QGWVO XII!\n",
      "THZPYH HUN PFVUN WHH!\n",
      "SGYOXG GTM OEUTM VGG!\n",
      "RFXNWF FSL NDTSL UFF!\n",
      "QEWMVE ERK MCSRK TEE!\n",
      "PDVLUD DQJ LBRQJ SDD!\n",
      "-------------------------------------------------\n",
      "I found the most likely sentence. Could it be this? \n",
      "DRJZIR REX ZPFEX GRR!\n"
     ]
    }
   ],
   "source": [
    "\n",
    "sentenceToHack = input(\"Please provide the sentence you'd like me to hack here: \\n\")\n",
    "\n",
    "print(\"It's hacking time...... :-) \\n\")\n",
    "print(\"Printing all possible decrypted sentences: \")\n",
    "\n",
    "possibleSentences = []\n",
    "\n",
    "for i in range(26):\n",
    "  sentence = bruteForce(decrypt(sentenceToHack, i)) \n",
    "  print(decrypt(sentenceToHack, i))\n",
    "\n",
    "  if sentence == True:\n",
    "    possibleSentences.append(decrypt(sentenceToHack, i))\n",
    "    \n",
    "print(\"-------------------------------------------------\")\n",
    "print(\"I found the most likely sentence. Could it be this? \")\n",
    "\n",
    "mostLikelySentence = \"\"\n",
    "maxWords = 0\n",
    "\n",
    "for sentence in possibleSentences:\n",
    "    #take the sentence with the highest amount of english words in it\n",
    "    if countEnglishWords(sentence) > maxWords:\n",
    "        maxWords = countEnglishWords(sentence)\n",
    "        mostLikelySentence = sentence\n",
    "\n",
    "print(mostLikelySentence)\n"
   ]
  },
  {
   "cell_type": "code",
   "execution_count": null,
   "metadata": {},
   "outputs": [],
   "source": []
  }
 ],
 "metadata": {
  "colab": {
   "name": "CaesarCypher.ipynb",
   "provenance": []
  },
  "kernelspec": {
   "display_name": "Python 3",
   "language": "python",
   "name": "python3"
  },
  "language_info": {
   "codemirror_mode": {
    "name": "ipython",
    "version": 3
   },
   "file_extension": ".py",
   "mimetype": "text/x-python",
   "name": "python",
   "nbconvert_exporter": "python",
   "pygments_lexer": "ipython3",
   "version": "3.8.5"
  }
 },
 "nbformat": 4,
 "nbformat_minor": 1
}
