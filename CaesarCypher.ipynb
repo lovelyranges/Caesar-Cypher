{
  "nbformat": 4,
  "nbformat_minor": 0,
  "metadata": {
    "kernelspec": {
      "display_name": "Python 3",
      "language": "python",
      "name": "python3"
    },
    "language_info": {
      "codemirror_mode": {
        "name": "ipython",
        "version": 3
      },
      "file_extension": ".py",
      "mimetype": "text/x-python",
      "name": "python",
      "nbconvert_exporter": "python",
      "pygments_lexer": "ipython3",
      "version": "3.8.5"
    },
    "colab": {
      "name": "CaesarCypher.ipynb",
      "provenance": []
    }
  },
  "cells": [
    {
      "cell_type": "markdown",
      "metadata": {
        "id": "hUogYoFTEU9l"
      },
      "source": [
        "# Caesar Cypher, by Lovely Ranges"
      ]
    },
    {
      "cell_type": "code",
      "metadata": {
        "colab": {
          "base_uri": "https://localhost:8080/"
        },
        "id": "j_zJ5ScHmWGU",
        "outputId": "147ad96b-4740-41b9-f566-66703af19cf4"
      },
      "source": [
        "#load corpus of many many words :)\n",
        "import nltk\n",
        "nltk.download('words')"
      ],
      "execution_count": 140,
      "outputs": [
        {
          "output_type": "stream",
          "text": [
            "[nltk_data] Downloading package words to /root/nltk_data...\n",
            "[nltk_data]   Unzipping corpora/words.zip.\n"
          ],
          "name": "stdout"
        },
        {
          "output_type": "execute_result",
          "data": {
            "text/plain": [
              "True"
            ]
          },
          "metadata": {
            "tags": []
          },
          "execution_count": 140
        }
      ]
    },
    {
      "cell_type": "markdown",
      "metadata": {
        "id": "rzsR1eLoEU9n"
      },
      "source": [
        "### Encryption Function"
      ]
    },
    {
      "cell_type": "code",
      "metadata": {
        "id": "AWtugb7eEU9p"
      },
      "source": [
        "#splits a string into individual letters\n",
        "def split(string):\n",
        "    return[x for x in string]\n",
        "\n",
        "#encrypts a sentence \n",
        "def encrypt(plaintext, key):\n",
        "\n",
        "    #empty text we will add to\n",
        "    encryptedText = \"\"\n",
        "\n",
        "    #split sentence into a list of words\n",
        "    plaintext = plaintext.upper()\n",
        "    alphabet = split(\"ABCDEFGHIJKLMNOPQRSTUVWXYZ\")\n",
        "    \n",
        "    #for each of the letters in text\n",
        "    for letter in plaintext:\n",
        "        #if the letter is inside the alphabet and we haven't gone past the length of alphabet\n",
        "        #then shift the letter by that key and add it to our encrypted text\n",
        "        if letter in alphabet and (alphabet.index(letter) + key) < len(alphabet):\n",
        "        #if letter in alphabet:\n",
        "            encryptedText += alphabet[alphabet.index(letter)+ key]\n",
        "        #if white space, ignore\n",
        "        elif letter not in alphabet:\n",
        "            encryptedText += letter\n",
        "        else:\n",
        "            encryptedText += alphabet[((alphabet.index(letter) + key) % len(alphabet))]\n",
        "            \n",
        "    return encryptedText\n",
        "            \n",
        "#decrypts a sentence\n",
        "def decrypt(encryptedtext, key):\n",
        "    decryptedtext = \"\"\n",
        "    #split text into a list of letters\n",
        "    encryptedtext = encryptedtext.upper()\n",
        "    alphabet = split(\"ABCDEFGHIJKLMNOPQRSTUVWXYZ\")\n",
        "    \n",
        "    #for each of the letters in text\n",
        "    for letter in encryptedtext:\n",
        "        #if the letter is inside the alphabet and we haven't gone past the length of alphabet\n",
        "        #then shift the letter by that key and add it to our encrypted text\n",
        "        if letter in alphabet and (alphabet.index(letter) - key) > len(alphabet):\n",
        "        #if letter in alphabet:\n",
        "            decryptedtext += alphabet[alphabet.index(letter) - key]\n",
        "        elif letter not in alphabet:\n",
        "            decryptedtext += letter\n",
        "        else:\n",
        "            decryptedtext += alphabet[((alphabet.index(letter) - key) % len(alphabet))]\n",
        "            \n",
        "    return decryptedtext\n",
        "    \n",
        "def bruteForce(sentence):\n",
        "  english = False \n",
        "  wordCount = 0 \n",
        "\n",
        "  #convert all case to lower\n",
        "  sentence = sentence.lower()\n",
        "  splitSent = sentence.split()\n",
        "  #d = enchant.Dict(\"en_US\")\n",
        "\n",
        "  english_vocab = set(w.lower() for w in nltk.corpus.words.words())\n",
        "\n",
        "  for word in splitSent:\n",
        "    #check if its an english word\n",
        "      if word in english_vocab:\n",
        "        wordCount += 1\n",
        "  \n",
        "  if wordCount >= 1:\n",
        "    english = True\n",
        "  else:\n",
        "    english = False\n",
        "\n",
        "  return english\n",
        "      \n"
      ],
      "execution_count": 141,
      "outputs": []
    },
    {
      "cell_type": "markdown",
      "metadata": {
        "id": "PzDtxZzjEU9q"
      },
      "source": [
        "### Encryption Tests"
      ]
    },
    {
      "cell_type": "code",
      "metadata": {
        "colab": {
          "base_uri": "https://localhost:8080/"
        },
        "id": "-hl034vzEU9q",
        "outputId": "fbf80af9-1c6d-4b84-819a-ecf00fbb3cdc"
      },
      "source": [
        "sentence = input(\"Please provide the sentence you'd like for us to encrypt.\\n\")\n",
        "key = int(input(\"Please provide the key you'd like to use to encrypt with (number between 1 - 26)\\n\"))\n",
        "\n",
        "encryptedSent = encrypt(sentence, key)\n",
        "print(\"Printing encrypted sentence: \" + encryptedSent)\n",
        "\n",
        "print(\"Printing all possible decrypted sentences: \")\n",
        "\n",
        "possibleSentences = []\n",
        "\n",
        "for i in range(26):\n",
        "  sentence = bruteForce(decrypt(encryptedSent, \n",
        "                                i)) \n",
        "  print(decrypt(encryptedSent, i))\n",
        "\n",
        "  if sentence == True:\n",
        "    possibleSentences.append(decrypt(encryptedSent, i))\n",
        "  \n",
        "print(\"-------------------------------------------------\")\n",
        "print(\"I have found possible sentences that might be of use to you: \")\n",
        "\n",
        "for w in possibleSentences:\n",
        "  print(w)\n",
        "\n",
        "\n"
      ],
      "execution_count": 144,
      "outputs": [
        {
          "output_type": "stream",
          "text": [
            "Please provide the sentence you'd like for us to encrypt.\n",
            "what the heck\n",
            "Please provide the key you'd like to use to encrypt with (number between 1 - 26)\n",
            "8\n",
            "Printing encrypted sentence: EPIB BPM PMKS\n",
            "Printing all possible decrypted sentences: \n",
            "EPIB BPM PMKS\n",
            "DOHA AOL OLJR\n",
            "CNGZ ZNK NKIQ\n",
            "BMFY YMJ MJHP\n",
            "ALEX XLI LIGO\n",
            "ZKDW WKH KHFN\n",
            "YJCV VJG JGEM\n",
            "XIBU UIF IFDL\n",
            "WHAT THE HECK\n",
            "VGZS SGD GDBJ\n",
            "UFYR RFC FCAI\n",
            "TEXQ QEB EBZH\n",
            "SDWP PDA DAYG\n",
            "RCVO OCZ CZXF\n",
            "QBUN NBY BYWE\n",
            "PATM MAX AXVD\n",
            "OZSL LZW ZWUC\n",
            "NYRK KYV YVTB\n",
            "MXQJ JXU XUSA\n",
            "LWPI IWT WTRZ\n",
            "KVOH HVS VSQY\n",
            "JUNG GUR URPX\n",
            "ITMF FTQ TQOW\n",
            "HSLE ESP SPNV\n",
            "GRKD DRO ROMU\n",
            "FQJC CQN QNLT\n",
            "-------------------------------------------------\n",
            "I have found possible sentences that might be of use to you: \n",
            "ALEX XLI LIGO\n",
            "WHAT THE HECK\n",
            "PATM MAX AXVD\n",
            "JUNG GUR URPX\n"
          ],
          "name": "stdout"
        }
      ]
    }
  ]
}