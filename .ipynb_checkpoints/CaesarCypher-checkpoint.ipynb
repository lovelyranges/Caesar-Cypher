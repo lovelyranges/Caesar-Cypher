{
 "cells": [
  {
   "cell_type": "markdown",
   "metadata": {
    "id": "hUogYoFTEU9l"
   },
   "source": [
    "# Caesar Cypher, by Lovely Ranges"
   ]
  },
  {
   "cell_type": "code",
   "execution_count": 1,
   "metadata": {
    "colab": {
     "base_uri": "https://localhost:8080/"
    },
    "id": "j_zJ5ScHmWGU",
    "outputId": "e4a49cf9-0fd7-41ef-f898-77c36250a525"
   },
   "outputs": [
    {
     "name": "stderr",
     "output_type": "stream",
     "text": [
      "[nltk_data] Downloading package words to\n",
      "[nltk_data]     C:\\Users\\user\\AppData\\Roaming\\nltk_data...\n",
      "[nltk_data]   Package words is already up-to-date!\n"
     ]
    },
    {
     "data": {
      "text/plain": [
       "True"
      ]
     },
     "execution_count": 1,
     "metadata": {},
     "output_type": "execute_result"
    }
   ],
   "source": [
    "#load corpus of many many words :)\n",
    "import nltk\n",
    "nltk.download('words')"
   ]
  },
  {
   "cell_type": "markdown",
   "metadata": {
    "id": "rzsR1eLoEU9n"
   },
   "source": [
    "### Encryption Function"
   ]
  },
  {
   "cell_type": "code",
   "execution_count": 2,
   "metadata": {
    "id": "AWtugb7eEU9p"
   },
   "outputs": [],
   "source": [
    "#splits a string into individual letters\n",
    "def split(string):\n",
    "    return[x for x in string]\n",
    "\n",
    "#encrypts a sentence \n",
    "def encrypt(plaintext, key):\n",
    "\n",
    "    #empty text we will add to\n",
    "    encryptedText = \"\"\n",
    "\n",
    "    #split sentence into a list of words\n",
    "    plaintext = plaintext.upper()\n",
    "    alphabet = split(\"ABCDEFGHIJKLMNOPQRSTUVWXYZ\")\n",
    "    \n",
    "    #for each of the letters in text\n",
    "    for letter in plaintext:\n",
    "        #if the letter is inside the alphabet and we haven't gone past the length of alphabet\n",
    "        #then shift the letter by that key and add it to our encrypted text\n",
    "        if letter in alphabet and (alphabet.index(letter) + key) < len(alphabet):\n",
    "        #if letter in alphabet:\n",
    "            encryptedText += alphabet[alphabet.index(letter)+ key]\n",
    "        #if white space, ignore\n",
    "        elif letter not in alphabet:\n",
    "            encryptedText += letter\n",
    "        else:\n",
    "            encryptedText += alphabet[((alphabet.index(letter) + key) % len(alphabet))]\n",
    "            \n",
    "    return encryptedText\n",
    "            \n",
    "#decrypts a sentence\n",
    "def decrypt(encryptedtext, key):\n",
    "    decryptedtext = \"\"\n",
    "    #split text into a list of letters\n",
    "    encryptedtext = encryptedtext.upper()\n",
    "    alphabet = split(\"ABCDEFGHIJKLMNOPQRSTUVWXYZ\")\n",
    "    \n",
    "    #for each of the letters in text\n",
    "    for letter in encryptedtext:\n",
    "        #if the letter is inside the alphabet and we haven't gone past the length of alphabet\n",
    "        #then shift the letter by that key and add it to our encrypted text\n",
    "        if letter in alphabet and (alphabet.index(letter) - key) > len(alphabet):\n",
    "        #if letter in alphabet:\n",
    "            decryptedtext += alphabet[alphabet.index(letter) - key]\n",
    "        elif letter not in alphabet:\n",
    "            decryptedtext += letter\n",
    "        else:\n",
    "            decryptedtext += alphabet[((alphabet.index(letter) - key) % len(alphabet))]\n",
    "            \n",
    "    return decryptedtext\n",
    "    \n",
    "def bruteForce(sentence):\n",
    "  english = False \n",
    "  wordCount = 0 \n",
    "\n",
    "  #convert all case to lower\n",
    "  sentence = sentence.lower()\n",
    "  splitSent = sentence.split()\n",
    "  #d = enchant.Dict(\"en_US\")\n",
    "\n",
    "  english_vocab = set(w.lower() for w in nltk.corpus.words.words())\n",
    "\n",
    "  for word in splitSent:\n",
    "    #check if its an english word\n",
    "      if word in english_vocab and len(word) >= 3:\n",
    "        wordCount += 1\n",
    "  \n",
    "  if wordCount >= 1:\n",
    "    english = True\n",
    "  else:\n",
    "    english = False\n",
    "\n",
    "  return english\n",
    "\n",
    "def countEnglishWords(sentence):\n",
    "    \n",
    "    wordCount = 0\n",
    "    sentence = sentence.lower()\n",
    "    splitSent = sentence.split()\n",
    "    english_vocab = set(w.lower() for w in nltk.corpus.words.words())\n",
    "    \n",
    "    for word in splitSent:\n",
    "        if word in english_vocab and len(word) >= 3:\n",
    "            wordCount += 1\n",
    "    \n",
    "    return wordCount\n"
   ]
  },
  {
   "cell_type": "markdown",
   "metadata": {
    "id": "PzDtxZzjEU9q"
   },
   "source": [
    "### Encryption Tests"
   ]
  },
  {
   "cell_type": "code",
   "execution_count": 8,
   "metadata": {
    "colab": {
     "base_uri": "https://localhost:8080/"
    },
    "id": "-hl034vzEU9q",
    "outputId": "ae8602d5-8a58-4739-ba88-24a36b314c8b",
    "scrolled": true
   },
   "outputs": [
    {
     "name": "stdout",
     "output_type": "stream",
     "text": [
      "Please provide the sentence you'd like for us to encrypt.\n",
      "Michele this machine is about to blow your mind! Muwahahaha!\n",
      "Please provide the key you'd like to use to encrypt with (number between 1 - 26)\n",
      "15\n",
      "Printing encrypted sentence: BXRWTAT IWXH BPRWXCT XH PQDJI ID QADL NDJG BXCS! BJLPWPWPWP!\n"
     ]
    }
   ],
   "source": [
    "sentence = input(\"Please provide the sentence you'd like for us to encrypt.\\n\")\n",
    "key = int(input(\"Please provide the key you'd like to use to encrypt with (number between 1 - 26)\\n\"))\n",
    "\n",
    "encryptedSent = encrypt(sentence, key)\n",
    "print(\"Printing encrypted sentence, ple: \" + encryptedSent)\n"
   ]
  },
  {
   "cell_type": "markdown",
   "metadata": {},
   "source": [
    "### Hacking Time!"
   ]
  },
  {
   "cell_type": "code",
   "execution_count": 9,
   "metadata": {
    "id": "yzDQrstupFZq",
    "scrolled": true
   },
   "outputs": [
    {
     "name": "stdout",
     "output_type": "stream",
     "text": [
      "It's hacking time...... :-) \n",
      "\n",
      "Printing all possible decrypted sentences: \n",
      "BXRWTAT IWXH BPRWXCT XH PQDJI ID QADL NDJG BXCS! BJLPWPWPWP!\n",
      "AWQVSZS HVWG AOQVWBS WG OPCIH HC PZCK MCIF AWBR! AIKOVOVOVO!\n",
      "ZVPURYR GUVF ZNPUVAR VF NOBHG GB OYBJ LBHE ZVAQ! ZHJNUNUNUN!\n",
      "YUOTQXQ FTUE YMOTUZQ UE MNAGF FA NXAI KAGD YUZP! YGIMTMTMTM!\n",
      "XTNSPWP ESTD XLNSTYP TD LMZFE EZ MWZH JZFC XTYO! XFHLSLSLSL!\n",
      "WSMROVO DRSC WKMRSXO SC KLYED DY LVYG IYEB WSXN! WEGKRKRKRK!\n",
      "VRLQNUN CQRB VJLQRWN RB JKXDC CX KUXF HXDA VRWM! VDFJQJQJQJ!\n",
      "UQKPMTM BPQA UIKPQVM QA IJWCB BW JTWE GWCZ UQVL! UCEIPIPIPI!\n",
      "TPJOLSL AOPZ THJOPUL PZ HIVBA AV ISVD FVBY TPUK! TBDHOHOHOH!\n",
      "SOINKRK ZNOY SGINOTK OY GHUAZ ZU HRUC EUAX SOTJ! SACGNGNGNG!\n",
      "RNHMJQJ YMNX RFHMNSJ NX FGTZY YT GQTB DTZW RNSI! RZBFMFMFMF!\n",
      "QMGLIPI XLMW QEGLMRI MW EFSYX XS FPSA CSYV QMRH! QYAELELELE!\n",
      "PLFKHOH WKLV PDFKLQH LV DERXW WR EORZ BRXU PLQG! PXZDKDKDKD!\n",
      "OKEJGNG VJKU OCEJKPG KU CDQWV VQ DNQY AQWT OKPF! OWYCJCJCJC!\n",
      "NJDIFMF UIJT NBDIJOF JT BCPVU UP CMPX ZPVS NJOE! NVXBIBIBIB!\n",
      "MICHELE THIS MACHINE IS ABOUT TO BLOW YOUR MIND! MUWAHAHAHA!\n",
      "LHBGDKD SGHR LZBGHMD HR ZANTS SN AKNV XNTQ LHMC! LTVZGZGZGZ!\n",
      "KGAFCJC RFGQ KYAFGLC GQ YZMSR RM ZJMU WMSP KGLB! KSUYFYFYFY!\n",
      "JFZEBIB QEFP JXZEFKB FP XYLRQ QL YILT VLRO JFKA! JRTXEXEXEX!\n",
      "IEYDAHA PDEO IWYDEJA EO WXKQP PK XHKS UKQN IEJZ! IQSWDWDWDW!\n",
      "HDXCZGZ OCDN HVXCDIZ DN VWJPO OJ WGJR TJPM HDIY! HPRVCVCVCV!\n",
      "GCWBYFY NBCM GUWBCHY CM UVION NI VFIQ SIOL GCHX! GOQUBUBUBU!\n",
      "FBVAXEX MABL FTVABGX BL TUHNM MH UEHP RHNK FBGW! FNPTATATAT!\n",
      "EAUZWDW LZAK ESUZAFW AK STGML LG TDGO QGMJ EAFV! EMOSZSZSZS!\n",
      "DZTYVCV KYZJ DRTYZEV ZJ RSFLK KF SCFN PFLI DZEU! DLNRYRYRYR!\n",
      "CYSXUBU JXYI CQSXYDU YI QREKJ JE RBEM OEKH CYDT! CKMQXQXQXQ!\n",
      "-------------------------------------------------\n",
      "I found the most likely sentence. Could it be this? \n",
      "MICHELE THIS MACHINE IS ABOUT TO BLOW YOUR MIND! MUWAHAHAHA!\n"
     ]
    }
   ],
   "source": [
    "\n",
    "sentenceToHack = input(\"Please provide the sentence you'd like me to hack here: \\n\")\n",
    "\n",
    "print(\"It's hacking time...... :-) \\n\")\n",
    "print(\"Printing all possible decrypted sentences: \")\n",
    "\n",
    "possibleSentences = []\n",
    "\n",
    "for i in range(26):\n",
    "  sentence = bruteForce(decrypt(sentenceToHack, \n",
    "                                i)) \n",
    "  print(decrypt(sentenceToHack, i))\n",
    "\n",
    "  if sentence == True:\n",
    "    possibleSentences.append(decrypt(sentenceToHack, i))\n",
    "    \n",
    "print(\"-------------------------------------------------\")\n",
    "print(\"I found the most likely sentence. Could it be this? \")\n",
    "\n",
    "mostLikelySentence = \"\"\n",
    "maxWords = 0\n",
    "\n",
    "for sentence in possibleSentences:\n",
    "    #take the highest\n",
    "    if countEnglishWords(sentence) > maxWords:\n",
    "        maxWords = countEnglishWords(sentence)\n",
    "        mostLikelySentence = sentence\n",
    "\n",
    "print(mostLikelySentence)\n"
   ]
  },
  {
   "cell_type": "code",
   "execution_count": null,
   "metadata": {},
   "outputs": [],
   "source": []
  }
 ],
 "metadata": {
  "colab": {
   "name": "CaesarCypher.ipynb",
   "provenance": []
  },
  "kernelspec": {
   "display_name": "Python 3",
   "language": "python",
   "name": "python3"
  },
  "language_info": {
   "codemirror_mode": {
    "name": "ipython",
    "version": 3
   },
   "file_extension": ".py",
   "mimetype": "text/x-python",
   "name": "python",
   "nbconvert_exporter": "python",
   "pygments_lexer": "ipython3",
   "version": "3.8.5"
  }
 },
 "nbformat": 4,
 "nbformat_minor": 1
}
