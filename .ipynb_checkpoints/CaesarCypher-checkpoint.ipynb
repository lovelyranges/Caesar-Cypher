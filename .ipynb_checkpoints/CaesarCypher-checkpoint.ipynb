{
 "cells": [
  {
   "cell_type": "markdown",
   "metadata": {},
   "source": [
    "# Caesar Cypher, by Lovely Ranges"
   ]
  },
  {
   "cell_type": "markdown",
   "metadata": {},
   "source": [
    "### Encryption Function"
   ]
  },
  {
   "cell_type": "code",
   "execution_count": 88,
   "metadata": {},
   "outputs": [],
   "source": [
    "def split(string):\n",
    "    return[x for x in string]\n",
    " \n",
    "def encrypt(plaintext, key):\n",
    "    encryptedText = \"\"\n",
    "    #split text into a list of letters\n",
    "    plaintext = split(plaintext)\n",
    "    alphabet = split(\"ABCDEFGHIJKLMNOPQRSTUVWXYZ\")\n",
    "    \n",
    "    #for each of the letters in text\n",
    "    for letter in plaintext:\n",
    "        #if the letter is inside the alphabet and we haven't gone past the length of alphabet\n",
    "        #then shift the letter by that key and add it to our encrypted text\n",
    "        \n",
    "        if letter in alphabet and (alphabet.index(letter) + key) < len(alphabet):\n",
    "        #if letter in alphabet:\n",
    "            encryptedText += alphabet[alphabet.index(letter)+ key]\n",
    "        else:\n",
    "            encryptedText += alphabet[((alphabet.index(letter) + key) % len(alphabet))]\n",
    "            \n",
    "    return encryptedText\n",
    "            \n",
    "def decrypt(encryptedtext, key):\n",
    "    decryptedtext = \"\"\n",
    "    #split text into a list of letters\n",
    "    encryptedtext = split(encryptedtext)\n",
    "    alphabet = split(\"ABCDEFGHIJKLMNOPQRSTUVWXYZ\")\n",
    "    \n",
    "    #for each of the letters in text\n",
    "    for letter in encryptedtext:\n",
    "        #if the letter is inside the alphabet and we haven't gone past the length of alphabet\n",
    "        #then shift the letter by that key and add it to our encrypted text\n",
    "        \n",
    "        if letter in alphabet and (alphabet.index(letter) - key) > len(alphabet):\n",
    "        #if letter in alphabet:\n",
    "            decryptedtext += alphabet[alphabet.index(letter) - key]\n",
    "        else:\n",
    "            decryptedtext += alphabet[((alphabet.index(letter) - key) % len(alphabet))]\n",
    "            \n",
    "    return decryptedtext\n",
    "    \n"
   ]
  },
  {
   "cell_type": "markdown",
   "metadata": {},
   "source": [
    "### Encryption Tests"
   ]
  },
  {
   "cell_type": "code",
   "execution_count": 102,
   "metadata": {},
   "outputs": [
    {
     "name": "stdout",
     "output_type": "stream",
     "text": [
      "Printing all possible answers....\n",
      "EBIILPBTXFELTXOBVLR\n",
      "DAHHKOASWEDKSWNAUKQ\n",
      "CZGGJNZRVDCJRVMZTJP\n",
      "BYFFIMYQUCBIQULYSIO\n",
      "AXEEHLXPTBAHPTKXRHN\n",
      "ZWDDGKWOSAZGOSJWQGM\n",
      "YVCCFJVNRZYFNRIVPFL\n",
      "XUBBEIUMQYXEMQHUOEK\n",
      "WTAADHTLPXWDLPGTNDJ\n",
      "VSZZCGSKOWVCKOFSMCI\n",
      "URYYBFRJNVUBJNERLBH\n",
      "TQXXAEQIMUTAIMDQKAG\n",
      "SPWWZDPHLTSZHLCPJZF\n",
      "ROVVYCOGKSRYGKBOIYE\n",
      "QNUUXBNFJRQXFJANHXD\n",
      "PMTTWAMEIQPWEIZMGWC\n",
      "OLSSVZLDHPOVDHYLFVB\n",
      "NKRRUYKCGONUCGXKEUA\n",
      "MJQQTXJBFNMTBFWJDTZ\n",
      "LIPPSWIAEMLSAEVICSY\n",
      "KHOORVHZDLKRZDUHBRX\n",
      "JGNNQUGYCKJQYCTGAQW\n",
      "IFMMPTFXBJIPXBSFZPV\n",
      "HELLOSEWAIHOWAREYOU\n",
      "GDKKNRDVZHGNVZQDXNT\n",
      "FCJJMQCUYGFMUYPCWMS\n",
      "A match has been found...\n",
      "\n"
     ]
    }
   ],
   "source": [
    "#print(encrypt(\"HELLOSEWAIHOWAREYOU\", 23))\n",
    "\n",
    "decryptedtext = \"HELLOSEWAIHOWAREYOU\"\n",
    "encryptedtext = \"EBIILPBTXFELTXOBVLR\"\n",
    "\n",
    "matchfound = \"\"\n",
    "key = 0\n",
    "\n",
    "print(\"Printing all possible answers....\")\n",
    "#brute force DECRYPT, NOT KNOWING WHAT KEY IT IS!!!!!!!\n",
    "for x in range(26):\n",
    "    print(decrypt(encryptedtext, x))\n",
    "    \n",
    "    if decrypt(encryptedtext, x) == decryptedtext:\n",
    "        matchfound = str(decrypt(encryptedText, x))\n",
    "        key = x\n",
    "        \n",
    "print(\"A match has been found...\")\n",
    "print(matchfound)\n",
    "\n",
    "    \n",
    "\n"
   ]
  },
  {
   "cell_type": "markdown",
   "metadata": {},
   "source": [
    "SCRAP: practice\n",
    "\n",
    "# get what key we want to use as our shift\n",
    "key = 5\n",
    "new_alphabet = []\n",
    "\n",
    "# print the entire alphabet shifted, accordingly using key\n",
    "# runs a loop x amount of time using length of alphabet\n",
    "for x in range(len(alphabet)):\n",
    "    #start from the key\n",
    "    #going to have issue where index is out of range because we'll go past length of alphabet\n",
    "    #so first condition is we have not been past the length of alphabet\n",
    "    if (x + key) < len(alphabet):\n",
    "        new_alphabet.append((alphabet[x + key]))\n",
    "    #and if we are past or equal to the length of alphabet\n",
    "    else:\n",
    "        #then go back to the beginning!\n",
    "        new_alphabet.append((alphabet[(x + key)%len(alphabet)]))\n",
    "\n",
    "print(new_alphabet)\n",
    "\n",
    "\n",
    "text = \"WHATSUP\"\n",
    "text = split(text)\n",
    "\n",
    "encryptedText = \"\"\n",
    "for x in text:\n",
    "    if x in alphabet:\n",
    "        encryptedText += alphabet[alphabet.index(x) + 5]\n",
    "    \n",
    "    \n",
    "# alphabet as a string\n",
    "#alphabet = split(\"ABCDEFGHIJKLMNOPQRSTUVWXYZ\")\n",
    "#alphabet = split(alphabet)\n",
    "   "
   ]
  },
  {
   "cell_type": "code",
   "execution_count": null,
   "metadata": {},
   "outputs": [],
   "source": []
  }
 ],
 "metadata": {
  "kernelspec": {
   "display_name": "Python 3",
   "language": "python",
   "name": "python3"
  },
  "language_info": {
   "codemirror_mode": {
    "name": "ipython",
    "version": 3
   },
   "file_extension": ".py",
   "mimetype": "text/x-python",
   "name": "python",
   "nbconvert_exporter": "python",
   "pygments_lexer": "ipython3",
   "version": "3.8.5"
  }
 },
 "nbformat": 4,
 "nbformat_minor": 4
}
