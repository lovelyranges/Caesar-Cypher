{
 "cells": [
  {
   "cell_type": "markdown",
   "metadata": {
    "id": "hUogYoFTEU9l"
   },
   "source": [
    "# Caesar Cypher, by Lovely Ranges"
   ]
  },
  {
   "cell_type": "code",
   "execution_count": 1,
   "metadata": {
    "colab": {
     "base_uri": "https://localhost:8080/"
    },
    "id": "j_zJ5ScHmWGU",
    "outputId": "e4a49cf9-0fd7-41ef-f898-77c36250a525"
   },
   "outputs": [
    {
     "name": "stderr",
     "output_type": "stream",
     "text": [
      "[nltk_data] Downloading package words to\n",
      "[nltk_data]     C:\\Users\\user\\AppData\\Roaming\\nltk_data...\n",
      "[nltk_data]   Unzipping corpora\\words.zip.\n"
     ]
    },
    {
     "data": {
      "text/plain": [
       "True"
      ]
     },
     "execution_count": 1,
     "metadata": {},
     "output_type": "execute_result"
    }
   ],
   "source": [
    "#load corpus of many many words :)\n",
    "import nltk\n",
    "nltk.download('words')"
   ]
  },
  {
   "cell_type": "markdown",
   "metadata": {
    "id": "rzsR1eLoEU9n"
   },
   "source": [
    "### Encryption Function"
   ]
  },
  {
   "cell_type": "code",
   "execution_count": 16,
   "metadata": {
    "id": "AWtugb7eEU9p"
   },
   "outputs": [],
   "source": [
    "#splits a string into individual letters\n",
    "def split(string):\n",
    "    return[x for x in string]\n",
    "\n",
    "#encrypts a sentence \n",
    "def encrypt(plaintext, key):\n",
    "\n",
    "    #empty text we will add to\n",
    "    encryptedText = \"\"\n",
    "\n",
    "    #split sentence into a list of words\n",
    "    plaintext = plaintext.upper()\n",
    "    alphabet = split(\"ABCDEFGHIJKLMNOPQRSTUVWXYZ\")\n",
    "    \n",
    "    #for each of the letters in text\n",
    "    for letter in plaintext:\n",
    "        #if the letter is inside the alphabet and we haven't gone past the length of alphabet\n",
    "        #then shift the letter by that key and add it to our encrypted text\n",
    "        if letter in alphabet and (alphabet.index(letter) + key) < len(alphabet):\n",
    "        #if letter in alphabet:\n",
    "            encryptedText += alphabet[alphabet.index(letter)+ key]\n",
    "        #if white space, ignore\n",
    "        elif letter not in alphabet:\n",
    "            encryptedText += letter\n",
    "        else:\n",
    "            encryptedText += alphabet[((alphabet.index(letter) + key) % len(alphabet))]\n",
    "            \n",
    "    return encryptedText\n",
    "            \n",
    "#decrypts a sentence\n",
    "def decrypt(encryptedtext, key):\n",
    "    decryptedtext = \"\"\n",
    "    #split text into a list of letters\n",
    "    encryptedtext = encryptedtext.upper()\n",
    "    alphabet = split(\"ABCDEFGHIJKLMNOPQRSTUVWXYZ\")\n",
    "    \n",
    "    #for each of the letters in text\n",
    "    for letter in encryptedtext:\n",
    "        #if the letter is inside the alphabet and we haven't gone past the length of alphabet\n",
    "        #then shift the letter by that key and add it to our encrypted text\n",
    "        if letter in alphabet and (alphabet.index(letter) - key) > len(alphabet):\n",
    "        #if letter in alphabet:\n",
    "            decryptedtext += alphabet[alphabet.index(letter) - key]\n",
    "        elif letter not in alphabet:\n",
    "            decryptedtext += letter\n",
    "        else:\n",
    "            decryptedtext += alphabet[((alphabet.index(letter) - key) % len(alphabet))]\n",
    "            \n",
    "    return decryptedtext\n",
    "    \n",
    "def bruteForce(sentence):\n",
    "  english = False \n",
    "  wordCount = 0 \n",
    "\n",
    "  #convert all case to lower\n",
    "  sentence = sentence.lower()\n",
    "  splitSent = sentence.split()\n",
    "  #d = enchant.Dict(\"en_US\")\n",
    "\n",
    "  english_vocab = set(w.lower() for w in nltk.corpus.words.words())\n",
    "\n",
    "  for word in splitSent:\n",
    "    #check if its an english word\n",
    "      if word in english_vocab and len(word) >= 3:\n",
    "        wordCount += 1\n",
    "  \n",
    "  if wordCount >= 1:\n",
    "    english = True\n",
    "  else:\n",
    "    english = False\n",
    "\n",
    "  return english\n",
    "\n",
    "def countEnglishWords(sentence):\n",
    "    \n",
    "    wordCount = 0\n",
    "    splitSent = sentence.split()\n",
    "    english_vocab = set(w.lower() for w in nltk.corpus.words.words())\n",
    "    \n",
    "    for word in splitSent:\n",
    "        if word in english_vocab and len(word) >= 3:\n",
    "            wordCount += 1\n",
    "    \n",
    "    return wordCount\n"
   ]
  },
  {
   "cell_type": "markdown",
   "metadata": {
    "id": "PzDtxZzjEU9q"
   },
   "source": [
    "### Encryption Tests"
   ]
  },
  {
   "cell_type": "code",
   "execution_count": 17,
   "metadata": {
    "colab": {
     "base_uri": "https://localhost:8080/"
    },
    "id": "-hl034vzEU9q",
    "outputId": "ae8602d5-8a58-4739-ba88-24a36b314c8b"
   },
   "outputs": [
    {
     "name": "stdout",
     "output_type": "stream",
     "text": [
      "Please provide the sentence you'd like for us to encrypt.\n",
      "What the heck is going on? I am so tired.\n",
      "Please provide the key you'd like to use to encrypt with (number between 1 - 26)\n",
      "20\n",
      "Printing encrypted sentence: QBUN NBY BYWE CM AICHA IH? C UG MI NCLYX.\n"
     ]
    }
   ],
   "source": [
    "sentence = input(\"Please provide the sentence you'd like for us to encrypt.\\n\")\n",
    "key = int(input(\"Please provide the key you'd like to use to encrypt with (number between 1 - 26)\\n\"))\n",
    "\n",
    "encryptedSent = encrypt(sentence, key)\n",
    "print(\"Printing encrypted sentence: \" + encryptedSent)\n"
   ]
  },
  {
   "cell_type": "markdown",
   "metadata": {},
   "source": [
    "### Hacking Time!"
   ]
  },
  {
   "cell_type": "code",
   "execution_count": 18,
   "metadata": {
    "id": "yzDQrstupFZq",
    "scrolled": true
   },
   "outputs": [
    {
     "name": "stdout",
     "output_type": "stream",
     "text": [
      "It's hacking time...... :-)\n",
      "Printing all possible decrypted sentences: \n",
      "QBUN NBY BYWE CM AICHA IH? C UG MI NCLYX.\n",
      "PATM MAX AXVD BL ZHBGZ HG? B TF LH MBKXW.\n",
      "OZSL LZW ZWUC AK YGAFY GF? A SE KG LAJWV.\n",
      "NYRK KYV YVTB ZJ XFZEX FE? Z RD JF KZIVU.\n",
      "MXQJ JXU XUSA YI WEYDW ED? Y QC IE JYHUT.\n",
      "LWPI IWT WTRZ XH VDXCV DC? X PB HD IXGTS.\n",
      "KVOH HVS VSQY WG UCWBU CB? W OA GC HWFSR.\n",
      "JUNG GUR URPX VF TBVAT BA? V NZ FB GVERQ.\n",
      "ITMF FTQ TQOW UE SAUZS AZ? U MY EA FUDQP.\n",
      "HSLE ESP SPNV TD RZTYR ZY? T LX DZ ETCPO.\n",
      "GRKD DRO ROMU SC QYSXQ YX? S KW CY DSBON.\n",
      "FQJC CQN QNLT RB PXRWP XW? R JV BX CRANM.\n",
      "EPIB BPM PMKS QA OWQVO WV? Q IU AW BQZML.\n",
      "DOHA AOL OLJR PZ NVPUN VU? P HT ZV APYLK.\n",
      "CNGZ ZNK NKIQ OY MUOTM UT? O GS YU ZOXKJ.\n",
      "BMFY YMJ MJHP NX LTNSL TS? N FR XT YNWJI.\n",
      "ALEX XLI LIGO MW KSMRK SR? M EQ WS XMVIH.\n",
      "ZKDW WKH KHFN LV JRLQJ RQ? L DP VR WLUHG.\n",
      "YJCV VJG JGEM KU IQKPI QP? K CO UQ VKTGF.\n",
      "XIBU UIF IFDL JT HPJOH PO? J BN TP UJSFE.\n",
      "WHAT THE HECK IS GOING ON? I AM SO TIRED.\n",
      "VGZS SGD GDBJ HR FNHMF NM? H ZL RN SHQDC.\n",
      "UFYR RFC FCAI GQ EMGLE ML? G YK QM RGPCB.\n",
      "TEXQ QEB EBZH FP DLFKD LK? F XJ PL QFOBA.\n",
      "SDWP PDA DAYG EO CKEJC KJ? E WI OK PENAZ.\n",
      "RCVO OCZ CZXF DN BJDIB JI? D VH NJ ODMZY.\n",
      "-------------------------------------------------\n",
      "I have found possible sentences that might be of use to you, do any of these sound like what the message could be?\n",
      "0\n",
      "0\n",
      "0\n",
      "0\n"
     ]
    }
   ],
   "source": [
    "print(\"It's hacking time...... :-)\")\n",
    "print(\"Printing all possible decrypted sentences: \")\n",
    "\n",
    "possibleSentences = []\n",
    "\n",
    "for i in range(26):\n",
    "  sentence = bruteForce(decrypt(encryptedSent, \n",
    "                                i)) \n",
    "  print(decrypt(encryptedSent, i))\n",
    "\n",
    "  if sentence == True:\n",
    "    possibleSentences.append(decrypt(encryptedSent, i))\n",
    "  \n",
    "print(\"-------------------------------------------------\")\n",
    "print(\"I have found possible sentences that might be of use to you, do any of these sound like what the message could be?\")\n",
    "\n",
    "for sentence in possibleSentences:\n",
    "    print(countEnglishWords(sentence))\n"
   ]
  },
  {
   "cell_type": "code",
   "execution_count": null,
   "metadata": {},
   "outputs": [],
   "source": []
  }
 ],
 "metadata": {
  "colab": {
   "name": "CaesarCypher.ipynb",
   "provenance": []
  },
  "kernelspec": {
   "display_name": "Python 3",
   "language": "python",
   "name": "python3"
  },
  "language_info": {
   "codemirror_mode": {
    "name": "ipython",
    "version": 3
   },
   "file_extension": ".py",
   "mimetype": "text/x-python",
   "name": "python",
   "nbconvert_exporter": "python",
   "pygments_lexer": "ipython3",
   "version": "3.8.5"
  }
 },
 "nbformat": 4,
 "nbformat_minor": 1
}
